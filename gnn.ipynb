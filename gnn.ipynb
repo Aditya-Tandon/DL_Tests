{
 "cells": [
  {
   "cell_type": "code",
   "execution_count": 2,
   "metadata": {},
   "outputs": [
    {
     "name": "stderr",
     "output_type": "stream",
     "text": [
      "/opt/anaconda3/lib/python3.9/site-packages/torchvision/io/image.py:13: UserWarning: Failed to load image Python extension: dlopen(/opt/anaconda3/lib/python3.9/site-packages/torchvision/image.so, 0x0006): Symbol not found: __ZN2at4_ops19empty_memory_format4callEN3c108ArrayRefIxEENS2_8optionalINS2_10ScalarTypeEEENS5_INS2_6LayoutEEENS5_INS2_6DeviceEEENS5_IbEENS5_INS2_12MemoryFormatEEE\n",
      "  Referenced from: <DAC8FDCB-770B-356E-BA9C-E2F40A2AA20E> /opt/anaconda3/lib/python3.9/site-packages/torchvision/image.so\n",
      "  Expected in:     <AE6DCE26-A528-35ED-BB3D-88890D27E6B9> /opt/anaconda3/lib/python3.9/site-packages/torch/lib/libtorch_cpu.dylib\n",
      "  warn(f\"Failed to load image Python extension: {e}\")\n"
     ]
    },
    {
     "data": {
      "text/plain": [
       "9832140095817926393"
      ]
     },
     "execution_count": 2,
     "metadata": {},
     "output_type": "execute_result"
    }
   ],
   "source": [
    "import os\n",
    "import sys\n",
    "import numpy as np\n",
    "import torch\n",
    "import torch.nn as nn\n",
    "import torch.optim as optim\n",
    "import lightning.pytorch as pl\n",
    "import torch_geometric as tg\n",
    "\n",
    "torch.seed()"
   ]
  },
  {
   "cell_type": "code",
   "execution_count": 124,
   "metadata": {},
   "outputs": [],
   "source": [
    "class GCNConv(tg.nn.MessagePassing):\n",
    "    def __init__(self, in_channels, out_channels):\n",
    "        super(GCNConv, self).__init__(aggr='add') # aggr can be add, mean, max, min, prod, and custom for a custom func, e.g. torch.scatter_add\n",
    "        self.linear = nn.Linear(in_channels, out_channels)\n",
    "\n",
    "    def forward(self, x, edge_index):\n",
    "        # x --> N, in_channels\n",
    "        edge_index, _ = tg.utils.add_self_loops(edge_index, num_nodes=x.shape[0])\n",
    "        # edge_index --> 2, num_edges(E)\n",
    "        x = self.linear(x)\n",
    "        updated_repr = self.propagate(edge_index, x=x, size=(x.shape[0], x.shape[0])) # size should be num_nodes, num_nodes\n",
    "        # propagate calls message, aggregate and update with aggr being defined through constructor above\n",
    "        return updated_repr\n",
    "\n",
    "    def message(self, x_i, x_j, edge_index, size):\n",
    "        # x_j --> E, in_channels : feature vectors of the source nodes (nodes from which the edge is directed)\n",
    "        # x_i --> E, in_channels : feature vectors of the neighbour nodes (nodes towards which the edge is directed)\n",
    "        row, col = edge_index\n",
    "        # print(\"row\",row)\n",
    "        # print(\"col\", col)\n",
    "        deg = tg.utils.degree(index=row, num_nodes=size[0], dtype=x_j.dtype) # index takes the row from which the edge is directed\n",
    "        # print(\"xs\")\n",
    "        # print(x_i)\n",
    "        # print(x_j)\n",
    "        # print(\"deg\", deg)\n",
    "        # print(\"deg row\", deg[row]) # degree of each node of the index col\n",
    "        # print(\"deg col\", deg[col]) # degree of each node in the nodes towards which the edge goes\n",
    "        deg_inv_sqrt = deg.pow(-0.5)\n",
    "        deg_inv_sqrt[deg_inv_sqrt == float('inf')] = 0\n",
    "        norm_factor = deg_inv_sqrt[row] * deg_inv_sqrt[col] # because of undirected graph\n",
    "        norm_factor = norm_factor.view(-1, 1)\n",
    "        return norm_factor * x_j\n",
    "    \n",
    "    def update(self, aggr_out):\n",
    "        return aggr_out"
   ]
  },
  {
   "cell_type": "code",
   "execution_count": 118,
   "metadata": {},
   "outputs": [],
   "source": [
    "class EdgeConv(tg.nn.MessagePassing):\n",
    "    def __init__(self, in_channels, out_channels):\n",
    "        super().__init__(aggr=\"max\")\n",
    "        self.mlp = nn.Sequential(\n",
    "            nn.Linear(2 * in_channels, out_channels),\n",
    "            nn.LeakyReLU(),\n",
    "            nn.Linear(out_channels, out_channels),\n",
    "        )\n",
    "    \n",
    "    def forward(self, x, edge_index):\n",
    "        updated_repr = self.propagate(edge_index, x=x, size=(x.shape[0], x.shape[0]))\n",
    "        return updated_repr\n",
    "    \n",
    "    def message(self, x_i, x_j):\n",
    "        diff = x_i - x_j\n",
    "        msg = torch.cat([x_i, diff], dim=1)\n",
    "        msg = self.mlp(msg)\n",
    "        return msg\n",
    "    \n",
    "    def update(self, aggr_out):\n",
    "        return aggr_out"
   ]
  },
  {
   "cell_type": "code",
   "execution_count": 121,
   "metadata": {},
   "outputs": [],
   "source": [
    "from torch_geometric.nn import knn_graph \n",
    "# GPU accelerated edge convolutions as the operation apparently computes the entire graph sequentially\n",
    "class KNNConv(EdgeConv): # dont understand this yet\n",
    "    def __init__(self, in_channels, out_channels, k=6):\n",
    "        super(KNNConv, self).__init__(in_channels, out_channels)\n",
    "        self.k = k\n",
    "\n",
    "    def forward(self, x, batch=None):\n",
    "        edge_index = knn_graph(x, self.k, batch, loop=False, flow=self.flow) # flow defaults to source_to_target w/reference to message passing\n",
    "        return super.forward(x, edge_index)"
   ]
  },
  {
   "cell_type": "code",
   "execution_count": 123,
   "metadata": {},
   "outputs": [
    {
     "name": "stdout",
     "output_type": "stream",
     "text": [
      "tensor([[-0.0767, -0.0190,  0.5316],\n",
      "        [ 0.1705,  0.2976,  0.7172],\n",
      "        [ 0.2856,  0.3836,  0.3468],\n",
      "        [ 0.0931,  1.0285,  0.7458],\n",
      "        [ 0.1694,  0.4096,  0.4468]], grad_fn=<ScatterAddBackward0>) torch.Size([5, 3])\n",
      "tensor([[ 0.0000,  0.0000,  0.0000],\n",
      "        [-0.3318,  0.4351, -0.1737],\n",
      "        [-0.8640,  0.0603, -0.5952],\n",
      "        [-0.3346,  0.4314, -0.1814],\n",
      "        [-1.0888, -0.1188, -0.6981]], grad_fn=<ScatterReduceBackward0>) torch.Size([5, 3])\n"
     ]
    }
   ],
   "source": [
    "gcn = GCNConv(2, 3)\n",
    "ecn = EdgeConv(2, 3)\n",
    "# knn = KNNConv(2, 3, k=2)\n",
    "\n",
    "x = torch.randn(5, 2) # num_nodes * features_per_node\n",
    "y = torch.randn(5, 3) # num_nodes * features_per_node\n",
    "\n",
    "# x = torch.arange(0,10).view(5, 2).float()\n",
    "edge_index = torch.tensor([[0, 1, 1, 2, 3, 4],\n",
    "                           [1, 4, 2, 1, 3, 3]], dtype=torch.long) # 2, E\n",
    "adam = optim.Adam(gcn.parameters(), lr=0.001)\n",
    "\n",
    "# message = gcn.message(x, x, edge_index)\n",
    "# print(message, message.shape)\n",
    "x_out = gcn(x, edge_index)\n",
    "print(x_out, x_out.shape)\n",
    "x_ecn = ecn(x, edge_index)\n",
    "print(x_ecn, x_ecn.shape)\n",
    "# x_knn = knn(x)\n",
    "# print(x_knn, x_knn.shape)"
   ]
  },
  {
   "cell_type": "code",
   "execution_count": 102,
   "metadata": {},
   "outputs": [],
   "source": [
    "def train(num_steps):\n",
    "    grads = []\n",
    "    for _ in range(num_steps):\n",
    "\n",
    "        adam.zero_grad()\n",
    "        x_out = gcn(x, edge_index)\n",
    "        loss = torch.nn.functional.mse_loss(x_out, y)\n",
    "        loss.backward()\n",
    "        grads.append(gcn.linear.weight.grad)\n",
    "        adam.step()\n",
    "        if _ % 100 == 0:\n",
    "            print(loss.item())\n",
    "    return grads, gcn(x, edge_index)"
   ]
  },
  {
   "cell_type": "code",
   "execution_count": 115,
   "metadata": {},
   "outputs": [],
   "source": [
    "#vanilla GCN layer in pytorch without a non_linearity and torch_geometric\n",
    "class GraphConvLayer(nn.Module):\n",
    "    def __init__(self, in_channels, out_channels):\n",
    "        super(GraphConvLayer, self).__init__()\n",
    "        self.linear = nn.Linear(in_channels, out_channels) # provides the weight matrix for weighted sum of the neighbours' features\n",
    "\n",
    "    def forward(self, x, adj_mat):\n",
    "        # x --> N, in_channels\n",
    "        # adj_mat --> N, N\n",
    "        adj_hat = adj_mat + torch.eye(adj_mat.shape) # N, N\n",
    "        d_hat = torch.diag(torch.pow(torch.sum(adj_mat, dim=1), -0.5)) # N, N\n",
    "        a_hat = d_hat @ adj_mat @ d_hat # symmetrically normalized adjacency matrix\n",
    "        # a_hat --> N, N\n",
    "        x = self.linear(x)\n",
    "        x = a_hat @ x\n",
    "        return x # aggregation through summing the neighbours' features \n"
   ]
  },
  {
   "cell_type": "code",
   "execution_count": 117,
   "metadata": {},
   "outputs": [],
   "source": [
    "class GraphConvNet(nn.Module):\n",
    "    def __init__(self, in_channels, hidden_dim, out_channels, num_layers):\n",
    "        super(GraphConvNet, self).__init__()\n",
    "        self.layers = nn.ModuleList()\n",
    "        self.layers.append(GraphConvLayer(in_channels, hidden_dim),\n",
    "                           nn.LeakyReLU()\n",
    "                        )\n",
    "        for _ in range(num_layers - 2):\n",
    "            self.layers.append(GraphConvLayer(hidden_dim, hidden_dim),\n",
    "                              nn.LeakyReLU()\n",
    "                            )\n",
    "        self.layers.append(GraphConvLayer(hidden_dim, out_channels),\n",
    "                          nn.LeakyReLU()\n",
    "                          )\n",
    "        self.model = nn.Sequential(*self.layers)\n",
    "    \n",
    "    def forward(self, x, adj_mat):\n",
    "        return self.model(x, adj_mat)\n"
   ]
  },
  {
   "cell_type": "code",
   "execution_count": 129,
   "metadata": {},
   "outputs": [
    {
     "data": {
      "text/plain": [
       "torch.Size([2, 4, 1])"
      ]
     },
     "execution_count": 129,
     "metadata": {},
     "output_type": "execute_result"
    }
   ],
   "source": [
    "rand = torch.randn(2, 4, 3)\n",
    "rand.norm(dim=-1, keepdim=True).shape"
   ]
  },
  {
   "cell_type": "code",
   "execution_count": 146,
   "metadata": {},
   "outputs": [],
   "source": [
    "class GVP(nn.Module):\n",
    "    def __init__(self, in_shapes, out_shapes, h_dim):\n",
    "        super(GVP, self).__init__()\n",
    "        s_in, v_in = in_shapes\n",
    "        s_out, v_out = out_shapes\n",
    "        print(\"in_shapes: \",in_shapes)\n",
    "        print(\"out_shapes: \",out_shapes)\n",
    "        self.lin_s = nn.Linear(s_in + h_dim, s_out)\n",
    "        self.lin_v = nn.Linear(v_in, h_dim)\n",
    "        self.lin_out_v = nn.Linear(h_dim, v_out)\n",
    "        self.lin_out_s = nn.Linear(s_in + h_dim, s_out)\n",
    "        self.relu = nn.ReLU()\n",
    "        self.tanh = nn.Tanh()\n",
    "    \n",
    "    def forward(self, x):\n",
    "        s, v = x\n",
    "        # s --> N, s_in\n",
    "        # v --> N, v_in, 3\n",
    "        print(\"s: \",s.shape)\n",
    "        print(\"v: \",v.shape)\n",
    "        v = v.permute(0, 2, 1)\n",
    "        vh = self.lin_v(v)\n",
    "        print(\"vh: \",vh.shape)\n",
    "        vu = self.lin_out_v(vh)\n",
    "        print(\"vu: \",vu.shape)\n",
    "        vh = vh.transpose(-1, -2)\n",
    "        vu = vu.transpose(-1, -2)\n",
    "        sh = torch.norm(vh, dim=-1)\n",
    "        s_hn = torch.cat([s, sh], dim=-1)\n",
    "        print(\"s_hn: \",s_hn.shape)\n",
    "        s_out = self.lin_out_s(s_hn)\n",
    "        print(\"s_out: \",s_out.shape)\n",
    "        s_out = self.tanh(s_out)\n",
    "        v_out = self.relu(vu * torch.norm(vu, dim=-1, keepdim=True))\n",
    "        print(\"v_out: \",v_out.shape)\n",
    "        return (s_out, v_out)\n",
    "        \n"
   ]
  },
  {
   "cell_type": "code",
   "execution_count": 148,
   "metadata": {},
   "outputs": [
    {
     "name": "stdout",
     "output_type": "stream",
     "text": [
      "in_shapes:  (2, 4)\n",
      "out_shapes:  (3, 4)\n",
      "s:  torch.Size([2, 2])\n",
      "v:  torch.Size([2, 4, 3])\n",
      "vh:  torch.Size([2, 3, 5])\n",
      "vu:  torch.Size([2, 3, 4])\n",
      "s_hn:  torch.Size([2, 7])\n",
      "s_out:  torch.Size([2, 3])\n",
      "v_out:  torch.Size([2, 4, 3])\n"
     ]
    },
    {
     "data": {
      "text/plain": [
       "(tensor([[-0.0216, -0.3689,  0.2534],\n",
       "         [ 0.2418,  0.2044,  0.2630]], grad_fn=<TanhBackward0>),\n",
       " tensor([[[1.6820, 1.0839, 0.8515],\n",
       "          [0.0389, 0.0726, 0.1266],\n",
       "          [0.0000, 0.0000, 0.0000],\n",
       "          [0.0000, 0.0000, 0.0000]],\n",
       " \n",
       "         [[0.7354, 0.9130, 0.8214],\n",
       "          [0.0618, 0.0622, 0.1660],\n",
       "          [0.0000, 0.0000, 0.0000],\n",
       "          [0.0000, 0.0000, 0.0000]]], grad_fn=<ReluBackward0>))"
      ]
     },
     "execution_count": 148,
     "metadata": {},
     "output_type": "execute_result"
    }
   ],
   "source": [
    "gvp = GVP((2, 4), (3, 4), 5)\n",
    "x = (torch.randn(2, 2), torch.randn(2, 4, 3))\n",
    "gvp(x)"
   ]
  },
  {
   "cell_type": "code",
   "execution_count": null,
   "metadata": {},
   "outputs": [],
   "source": []
  }
 ],
 "metadata": {
  "kernelspec": {
   "display_name": "base",
   "language": "python",
   "name": "python3"
  },
  "language_info": {
   "codemirror_mode": {
    "name": "ipython",
    "version": 3
   },
   "file_extension": ".py",
   "mimetype": "text/x-python",
   "name": "python",
   "nbconvert_exporter": "python",
   "pygments_lexer": "ipython3",
   "version": "3.9.12"
  },
  "orig_nbformat": 4
 },
 "nbformat": 4,
 "nbformat_minor": 2
}
