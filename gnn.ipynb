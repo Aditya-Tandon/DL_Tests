{
 "cells": [
  {
   "cell_type": "code",
   "execution_count": 2,
   "metadata": {},
   "outputs": [
    {
     "name": "stderr",
     "output_type": "stream",
     "text": [
      "/opt/anaconda3/lib/python3.9/site-packages/torchvision/io/image.py:13: UserWarning: Failed to load image Python extension: dlopen(/opt/anaconda3/lib/python3.9/site-packages/torchvision/image.so, 0x0006): Symbol not found: __ZN2at4_ops19empty_memory_format4callEN3c108ArrayRefIxEENS2_8optionalINS2_10ScalarTypeEEENS5_INS2_6LayoutEEENS5_INS2_6DeviceEEENS5_IbEENS5_INS2_12MemoryFormatEEE\n",
      "  Referenced from: <DAC8FDCB-770B-356E-BA9C-E2F40A2AA20E> /opt/anaconda3/lib/python3.9/site-packages/torchvision/image.so\n",
      "  Expected in:     <AE6DCE26-A528-35ED-BB3D-88890D27E6B9> /opt/anaconda3/lib/python3.9/site-packages/torch/lib/libtorch_cpu.dylib\n",
      "  warn(f\"Failed to load image Python extension: {e}\")\n"
     ]
    },
    {
     "data": {
      "text/plain": [
       "9832140095817926393"
      ]
     },
     "execution_count": 2,
     "metadata": {},
     "output_type": "execute_result"
    }
   ],
   "source": [
    "import os\n",
    "import sys\n",
    "import numpy as np\n",
    "import torch\n",
    "import torch.nn as nn\n",
    "import torch.optim as optim\n",
    "import lightning.pytorch as pl\n",
    "import torch_geometric as tg\n",
    "\n",
    "torch.seed()"
   ]
  },
  {
   "cell_type": "code",
   "execution_count": 69,
   "metadata": {},
   "outputs": [],
   "source": [
    "class GCNConv(tg.nn.MessagePassing):\n",
    "    def __init__(self, in_channels, out_channels):\n",
    "        super(GCNConv, self).__init__(aggr='add')\n",
    "        self.linear = nn.Linear(in_channels, out_channels)\n",
    "\n",
    "    def forward(self, x, edge_index):\n",
    "        # x --> N, in_channels\n",
    "        edge_index, _ = tg.utils.add_self_loops(edge_index, num_nodes=x.shape[0])\n",
    "        # edge_index --> 2, num_edges(E)\n",
    "        x = self.linear(x)\n",
    "        messages = self.propagate(edge_index, x=x, size=(x.shape[0], x.shape[0])) # size should be num_nodes, num_nodes\n",
    "        return messages\n",
    "\n",
    "    def message(self, x_i, x_j, edge_index, size):\n",
    "        # x_j --> E, in_channels : feature vectors of the source nodes (nodes from which the edge is directed)\n",
    "        # x_i --> E, in_channels : feature vectors of the neighbour nodes (nodes towards which the edge is directed)\n",
    "        row, col = edge_index\n",
    "        # print(\"row\",row)\n",
    "        # print(\"col\", col)\n",
    "        deg = tg.utils.degree(index=row, num_nodes=size[0], dtype=x_j.dtype) # index takes the row from which the edge is directed\n",
    "        # print(\"xs\")\n",
    "        # print(x_i)\n",
    "        # print(x_j)\n",
    "        # print(\"deg\", deg)\n",
    "        # print(\"deg row\", deg[row]) # degree of each node of the index col\n",
    "        # print(\"deg col\", deg[col]) # degree of each node in the nodes towards which the edge goes\n",
    "        deg_inv_sqrt = deg.pow(-0.5)\n",
    "        deg_inv_sqrt[deg_inv_sqrt == float('inf')] = 0\n",
    "        norm_factor = deg_inv_sqrt[row] * deg_inv_sqrt[col] # because of undirected graph\n",
    "        norm_factor = norm_factor.view(-1, 1)\n",
    "        return norm_factor * x_j\n",
    "    \n",
    "    def update(self, aggr_out):\n",
    "        return aggr_out"
   ]
  },
  {
   "cell_type": "code",
   "execution_count": 70,
   "metadata": {},
   "outputs": [],
   "source": [
    "class EdgeConv(tg.nn.MessagePassing):\n",
    "    def __init__(self, in_channels, out_channels):\n",
    "        super().__init__(aggr=\"max\")\n",
    "        self.mlp = nn.Sequential(\n",
    "            nn.Linear(2 * in_channels, out_channels),\n",
    "            nn.LeakyReLU(),\n",
    "            nn.Linear(out_channels, out_channels),\n",
    "        )\n",
    "    \n",
    "    def forward(self, x, edge_index):\n",
    "        message = self.propagate(edge_index, x=x, size=(x.shape[0], x.shape[0]))\n",
    "        return message\n",
    "    \n",
    "    def message(self, x_i, x_j):\n",
    "        diff = x_i - x_j\n",
    "        msg = torch.cat([x_i, diff], dim=1)\n",
    "        msg = self.mlp(msg)\n",
    "        return msg\n",
    "    \n",
    "    def update(self, aggr_out):\n",
    "        return aggr_out"
   ]
  },
  {
   "cell_type": "code",
   "execution_count": null,
   "metadata": {},
   "outputs": [],
   "source": [
    "from torch_geometric.nn import knn_graph \n",
    "# GPU accelerated edge convolutions as the operation apparently computes the entire graph sequentially\n",
    "class KNNConv(EdgeConv):\n",
    "    def __init__(self, in_channels, out_channels, k=6):\n",
    "        super(KNNConv, self).__init__(aggr='max')\n",
    "        self.k = k\n",
    "\n",
    "    def forward(self, x, batch=None):\n",
    "        edge_index = knn_graph(x, self.k, batch, loop=False, flow=self.flow) # flow defaults to source_to_target w/reference to message passing\n",
    "        return super.forward(x, edge_index)"
   ]
  },
  {
   "cell_type": "code",
   "execution_count": 101,
   "metadata": {},
   "outputs": [
    {
     "name": "stdout",
     "output_type": "stream",
     "text": [
      "tensor([[-0.1076,  0.1549,  0.3280],\n",
      "        [-0.0326,  0.2252,  1.1151],\n",
      "        [ 0.0677,  0.1209,  1.0377],\n",
      "        [ 0.4138,  0.7760,  1.5657],\n",
      "        [ 0.4418, -0.0877,  1.6486]], grad_fn=<ScatterAddBackward0>) torch.Size([5, 3])\n"
     ]
    }
   ],
   "source": [
    "gcn = GCNConv(2, 3)\n",
    "x = torch.randn(5, 2) # num_nodes * features_per_node\n",
    "y = torch.randn(5, 3) # num_nodes * features_per_node\n",
    "\n",
    "# x = torch.arange(0,10).view(5, 2).float()\n",
    "edge_index = torch.tensor([[0, 1, 1, 2, 3, 4],\n",
    "                           [1, 4, 2, 1, 3, 3]], dtype=torch.long) # 2, E\n",
    "adam = optim.Adam(gcn.parameters(), lr=0.001)\n",
    "\n",
    "# message = gcn.message(x, x, edge_index)\n",
    "# print(message, message.shape)\n",
    "x_out = gcn(x, edge_index)\n",
    "print(x_out, x_out.shape)"
   ]
  },
  {
   "cell_type": "code",
   "execution_count": 102,
   "metadata": {},
   "outputs": [],
   "source": [
    "def train(num_steps):\n",
    "    grads = []\n",
    "    for _ in range(num_steps):\n",
    "\n",
    "        adam.zero_grad()\n",
    "        x_out = gcn(x, edge_index)\n",
    "        loss = torch.nn.functional.mse_loss(x_out, y)\n",
    "        loss.backward()\n",
    "        grads.append(gcn.linear.weight.grad)\n",
    "        adam.step()\n",
    "        if _ % 100 == 0:\n",
    "            print(loss.item())\n",
    "    return grads, gcn(x, edge_index)"
   ]
  },
  {
   "cell_type": "code",
   "execution_count": 115,
   "metadata": {},
   "outputs": [],
   "source": [
    "#vanilla GCN layer in pytorch without torch_geometric\n",
    "class GraphConvLayer(nn.Module):\n",
    "    def __init__(self, in_channels, out_channels):\n",
    "        super(GraphConvLayer, self).__init__()\n",
    "        self.linear = nn.Linear(in_channels, out_channels) # provides the weight matrix for weighted sum of the neighbours' features\n",
    "\n",
    "    def forward(self, x, adj_mat):\n",
    "        # x --> N, in_channels\n",
    "        # adj_mat --> N, N\n",
    "        adj_hat = adj_mat + torch.eye(adj_mat.shape) # N, N\n",
    "        d_hat = torch.diag(torch.pow(torch.sum(adj_mat, dim=1), -0.5)) # N, N\n",
    "        a_hat = d_hat @ adj_mat @ d_hat # symmetrically normalized adjacency matrix\n",
    "        # a_hat --> N, N\n",
    "        x = self.linear(x)\n",
    "        x = a_hat @ x\n",
    "        return x # aggregation through summing the neighbours' features \n"
   ]
  },
  {
   "cell_type": "code",
   "execution_count": 117,
   "metadata": {},
   "outputs": [],
   "source": [
    "class GraphConvNet(nn.Module):\n",
    "    def __init__(self, in_channels, hidden_dim, out_channels, num_layers):\n",
    "        super(GraphConvNet, self).__init__()\n",
    "        self.layers = nn.ModuleList()\n",
    "        self.layers.append(GraphConvLayer(in_channels, hidden_dim),\n",
    "                           nn.LeakyReLU()\n",
    "                        )\n",
    "        for _ in range(num_layers - 2):\n",
    "            self.layers.append(GraphConvLayer(hidden_dim, hidden_dim),\n",
    "                              nn.LeakyReLU()\n",
    "                            )\n",
    "        self.layers.append(GraphConvLayer(hidden_dim, out_channels),\n",
    "                          nn.LeakyReLU()\n",
    "                          )\n",
    "        self.model = nn.Sequential(*self.layers)\n",
    "    \n",
    "    def forward(self, x, adj_mat):\n",
    "        return self.model(x, adj_mat)\n"
   ]
  },
  {
   "cell_type": "code",
   "execution_count": null,
   "metadata": {},
   "outputs": [],
   "source": []
  }
 ],
 "metadata": {
  "kernelspec": {
   "display_name": "base",
   "language": "python",
   "name": "python3"
  },
  "language_info": {
   "codemirror_mode": {
    "name": "ipython",
    "version": 3
   },
   "file_extension": ".py",
   "mimetype": "text/x-python",
   "name": "python",
   "nbconvert_exporter": "python",
   "pygments_lexer": "ipython3",
   "version": "3.9.12"
  },
  "orig_nbformat": 4
 },
 "nbformat": 4,
 "nbformat_minor": 2
}
