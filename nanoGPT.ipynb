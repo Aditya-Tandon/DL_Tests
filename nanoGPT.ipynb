{
 "cells": [
  {
   "cell_type": "code",
   "execution_count": 1,
   "metadata": {},
   "outputs": [],
   "source": [
    "import os\n",
    "import numpy as np\n",
    "import torch\n",
    "import torch.nn as nn\n",
    "import torch.optim as optim\n",
    "from torch.utils.data import Dataset, DataLoader, RandomSampler, DistributedSampler"
   ]
  },
  {
   "cell_type": "code",
   "execution_count": 21,
   "metadata": {},
   "outputs": [],
   "source": [
    "data_dir = os.path.join(os.path.dirname(os.getcwd()), \"Data/Tiny shakespeare/input.txt\")"
   ]
  },
  {
   "cell_type": "code",
   "execution_count": 22,
   "metadata": {},
   "outputs": [],
   "source": [
    "with open(data_dir, 'r') as f:\n",
    "    text = f.read()"
   ]
  },
  {
   "cell_type": "code",
   "execution_count": 102,
   "metadata": {},
   "outputs": [],
   "source": [
    "vocab = sorted(list(set(text)))\n",
    "vocab_size = len(sorted(list(set(text)))) \n",
    "\n",
    "# Hyperparameters\n",
    "batch_size = 4 #B\n",
    "max_tokens = 10 #T\n",
    "emb_dim = 32 #C\n",
    "\n",
    "if torch.cuda.is_available():\n",
    "    device = \"cuda\"\n",
    "elif torch.has_mps:\n",
    "    device = \"mps\"\n",
    "else:\n",
    "    device = \"cpu\"\n"
   ]
  },
  {
   "cell_type": "code",
   "execution_count": 103,
   "metadata": {},
   "outputs": [],
   "source": [
    "token_encodings = {}\n",
    "token_decodings = {}\n",
    "for i, token in enumerate(vocab):\n",
    "    token_encodings[token] = i\n",
    "    token_decodings[i] = token"
   ]
  },
  {
   "cell_type": "code",
   "execution_count": 96,
   "metadata": {},
   "outputs": [],
   "source": [
    "def encode(txt):\n",
    "    enc_char = [token_encodings[char] for char in txt]\n",
    "    return enc_char\n",
    "\n",
    "def decode(enc_tokens):\n",
    "    dec_char = [token_decodings[idx] for idx in enc_tokens]\n",
    "    # decoded_str = \"\".join(dec_char);\n",
    "    return dec_char\n",
    "\n",
    "token_emb_table = torch.nn.Embedding(vocab_size, emb_dim, device=device)"
   ]
  },
  {
   "cell_type": "code",
   "execution_count": 104,
   "metadata": {},
   "outputs": [],
   "source": [
    "def generate_batch(batch_size):\n",
    "    idx = torch.randint(0, vocab_size - max_tokens - 1, (batch_size,))\n",
    "    data = torch.tensor(\n",
    "        [encode(text[i : i + max_tokens]) for i in idx], device=device\n",
    "    )\n",
    "    targets = torch.tensor(\n",
    "        [encode(text[i + 1 : i + max_tokens + 1]) for i in idx], device=device\n",
    "    )\n",
    "    return data, targets"
   ]
  },
  {
   "cell_type": "code",
   "execution_count": 105,
   "metadata": {},
   "outputs": [
    {
     "data": {
      "text/plain": [
       "(tensor([[ 1, 61, 43,  1, 54, 56, 53, 41, 43, 43],\n",
       "         [41, 43, 43, 42,  1, 39, 52, 63,  1, 44],\n",
       "         [ 1, 44, 59, 56, 58, 46, 43, 56,  6,  1],\n",
       "         [41, 43, 43, 42,  1, 39, 52, 63,  1, 44]], device='mps:0'),\n",
       " tensor([[61, 43,  1, 54, 56, 53, 41, 43, 43, 42],\n",
       "         [43, 43, 42,  1, 39, 52, 63,  1, 44, 59],\n",
       "         [44, 59, 56, 58, 46, 43, 56,  6,  1, 46],\n",
       "         [43, 43, 42,  1, 39, 52, 63,  1, 44, 59]], device='mps:0'))"
      ]
     },
     "execution_count": 105,
     "metadata": {},
     "output_type": "execute_result"
    }
   ],
   "source": [
    "generate_batch(batch_size)"
   ]
  },
  {
   "cell_type": "code",
   "execution_count": 67,
   "metadata": {},
   "outputs": [
    {
     "name": "stdout",
     "output_type": "stream",
     "text": [
      "tensor([20, 47,  2], device='mps:0')\n",
      "['H', 'i', '!']\n"
     ]
    }
   ],
   "source": [
    "print(encode(\"Hi!\"))\n",
    "print(decode([20, 47, 2]))"
   ]
  },
  {
   "cell_type": "code",
   "execution_count": 76,
   "metadata": {},
   "outputs": [
    {
     "data": {
      "text/plain": [
       "torch.Size([3, 32])"
      ]
     },
     "execution_count": 76,
     "metadata": {},
     "output_type": "execute_result"
    }
   ],
   "source": [
    "token_emb_table(encode(\"Hi!\")).shape"
   ]
  },
  {
   "cell_type": "code",
   "execution_count": null,
   "metadata": {},
   "outputs": [],
   "source": []
  }
 ],
 "metadata": {
  "kernelspec": {
   "display_name": "base",
   "language": "python",
   "name": "python3"
  },
  "language_info": {
   "codemirror_mode": {
    "name": "ipython",
    "version": 3
   },
   "file_extension": ".py",
   "mimetype": "text/x-python",
   "name": "python",
   "nbconvert_exporter": "python",
   "pygments_lexer": "ipython3",
   "version": "3.9.12"
  },
  "orig_nbformat": 4
 },
 "nbformat": 4,
 "nbformat_minor": 2
}
