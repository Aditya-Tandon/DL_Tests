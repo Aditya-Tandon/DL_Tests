{
 "cells": [
  {
   "cell_type": "code",
   "execution_count": 1,
   "metadata": {},
   "outputs": [],
   "source": [
    "import os\n",
    "import numpy as np\n",
    "import torch\n",
    "import torch.nn as nn\n",
    "import torch.optim as optim\n",
    "from torch.utils.data import Dataset, DataLoader, RandomSampler, DistributedSampler"
   ]
  },
  {
   "cell_type": "code",
   "execution_count": 2,
   "metadata": {},
   "outputs": [],
   "source": [
    "data_dir = os.path.join(os.path.dirname(os.getcwd()), \"Data/Tiny shakespeare/input.txt\")"
   ]
  },
  {
   "cell_type": "code",
   "execution_count": 3,
   "metadata": {},
   "outputs": [],
   "source": [
    "with open(data_dir, 'r') as f:\n",
    "    text = f.read()"
   ]
  },
  {
   "cell_type": "code",
   "execution_count": 4,
   "metadata": {},
   "outputs": [],
   "source": [
    "vocab = sorted(list(set(text)))\n",
    "vocab_size = len(sorted(list(set(text)))) \n",
    "data_size = len(text)\n",
    "# Hyperparameters\n",
    "batch_size = 40 #B\n",
    "block_size = 200 #T\n",
    "emb_size = 256 #C\n",
    "num_blocks = 4\n",
    "num_heads = 4\n",
    "head_size = 512\n",
    "\n",
    "if torch.cuda.is_available():\n",
    "    device = \"cuda\"\n",
    "elif torch.has_mps:\n",
    "    device = \"mps\"\n",
    "else:\n",
    "    device = \"cpu\"\n"
   ]
  },
  {
   "cell_type": "code",
   "execution_count": 5,
   "metadata": {},
   "outputs": [],
   "source": [
    "token_encodings = {}\n",
    "token_decodings = {}\n",
    "for i, token in enumerate(vocab):\n",
    "    token_encodings[token] = i\n",
    "    token_decodings[i] = token"
   ]
  },
  {
   "cell_type": "code",
   "execution_count": 6,
   "metadata": {},
   "outputs": [],
   "source": [
    "def encode(txt):\n",
    "    enc_char = [token_encodings[char] for char in txt]\n",
    "    return enc_char\n",
    "\n",
    "def decode(enc_tokens):\n",
    "    dec_char = [token_decodings[idx] for idx in enc_tokens]\n",
    "    decoded_str = \"\".join(dec_char)\n",
    "    return decoded_str\n",
    "\n",
    "def generate_batch(batch_size, block_size):\n",
    "    idx = torch.randint(0, data_size - block_size - 1, (batch_size,))\n",
    "    data = torch.tensor(\n",
    "        [encode(text[i : i + block_size]) for i in idx], device=device\n",
    "    ) # B x T \n",
    "    targets = torch.tensor(\n",
    "        [encode(text[i + 1 : i + block_size + 1]) for i in idx], device=device\n",
    "    ) # B x T \n",
    "    return data, targets"
   ]
  },
  {
   "cell_type": "code",
   "execution_count": 7,
   "metadata": {},
   "outputs": [],
   "source": [
    "data, targets = generate_batch(batch_size, block_size)\n",
    "# print([decode(data[i].cpu().numpy()) for i in range(data.shape[0])])"
   ]
  },
  {
   "cell_type": "code",
   "execution_count": null,
   "metadata": {},
   "outputs": [],
   "source": []
  },
  {
   "cell_type": "code",
   "execution_count": 13,
   "metadata": {},
   "outputs": [
    {
     "data": {
      "text/plain": [
       "1115394"
      ]
     },
     "execution_count": 13,
     "metadata": {},
     "output_type": "execute_result"
    }
   ],
   "source": [
    "test = open(data_dir, 'r').read()\n",
    "len(test)"
   ]
  },
  {
   "cell_type": "code",
   "execution_count": 8,
   "metadata": {},
   "outputs": [],
   "source": [
    "class ShakespeareDataset(Dataset):\n",
    "    def __init__(self, data_dir, train=True):\n",
    "        super().__init__()\n",
    "        self.data = open(data_dir, 'r').read()\n",
    "        train_dataset, val_dataset = torch.nn.utils.data.random_split(self.data, [int(len(self.data) * 0.8), len(self.data) - int(len(self.data) * 0.8)])\n",
    "        if train:\n",
    "            self.dataset = train_dataset\n",
    "        else:\n",
    "            self.dataset = val_dataset\n",
    "    \n",
    "    def __getitem__(self, idx):\n",
    "        # idx = torch.randint(0, data_size - block_size - 1, (batch_size,))\n",
    "        data = torch.tensor(\n",
    "            [encode(self.dataset[i : i + block_size]) for i in idx], device=device\n",
    "        ) # B x T \n",
    "        targets = torch.tensor(\n",
    "            [encode(self.dataset[i + 1 : i + block_size + 1]) for i in idx], device=device\n",
    "        ) # B x T \n",
    "        return data, targets\n",
    "    \n",
    "    def __len__(self):\n",
    "        return len(self.dataset)"
   ]
  },
  {
   "cell_type": "code",
   "execution_count": null,
   "metadata": {},
   "outputs": [],
   "source": [
    "dataset = ShakespeareDataset(data_dir)\n",
    "sampler = DistributedSampler(dataset, num_replicas=1, rank=0)\n",
    "dataloader = DataLoader(dataset, batch_size=batch_size, sampler=sampler)"
   ]
  },
  {
   "cell_type": "code",
   "execution_count": 9,
   "metadata": {},
   "outputs": [],
   "source": [
    "class SelfAttention(nn.Module):\n",
    "    def __init__(self, head_size):\n",
    "        super().__init__()\n",
    "        self.emb_size = emb_size\n",
    "        self.head_size = head_size\n",
    "        self.q = nn.Linear(emb_size, self.head_size, device=device)\n",
    "        self.k = nn.Linear(emb_size, self.head_size, device=device)\n",
    "        self.v = nn.Linear(emb_size, self.head_size, device=device)\n",
    "    \n",
    "    def forward(self, x):\n",
    "        q = self.q(x) # B, T, C -> B, T, H\n",
    "        k = self.k(x)\n",
    "        v = self.v(x)\n",
    "        B, T, H = q.shape\n",
    "        wei = q @ k.transpose(-1, -2) / np.sqrt(self.head_size) # B, T, H @ B, H, T -> B, T, T\n",
    "        # print(wei.shape)\n",
    "        mask = torch.tril(torch.ones(B, T, T)).to(device)\n",
    "        wei = wei.masked_fill(mask == 0, float('-inf'))\n",
    "        wei = nn.functional.softmax(wei, dim=-1)\n",
    "        out = wei @ v # B, T, H  \n",
    "        return out"
   ]
  },
  {
   "cell_type": "code",
   "execution_count": 10,
   "metadata": {},
   "outputs": [],
   "source": [
    "class MultiHeadedAttention(nn.Module):\n",
    "    def __init__(self, n_heads):\n",
    "        super().__init__()\n",
    "        self.n_heads = n_heads\n",
    "        self.emb_size = emb_size\n",
    "        self.head_size = emb_size // n_heads\n",
    "    \n",
    "    def forward(self, x):\n",
    "        out = []\n",
    "        for i in range(self.n_heads):\n",
    "            att_head = SelfAttention(self.head_size)\n",
    "            out.append(att_head(x))\n",
    "        # print(len(out), out[0].shape)\n",
    "        logits = torch.cat(out, dim=-1)\n",
    "        return logits\n"
   ]
  },
  {
   "cell_type": "code",
   "execution_count": null,
   "metadata": {},
   "outputs": [],
   "source": [
    "class FeedForwardBlock(nn.Module):\n",
    "    def __init__(self, num_blocks):\n",
    "        super().__init__()"
   ]
  },
  {
   "cell_type": "code",
   "execution_count": 16,
   "metadata": {},
   "outputs": [],
   "source": [
    "class GPT(nn.Module):\n",
    "    def __init__(self, vocab_size):\n",
    "        super().__init__()\n",
    "        self.token_emb_table = nn.Embedding(vocab_size, emb_size, device=device)\n",
    "        self.pos_emb_table = nn.Embedding(block_size, emb_size, device=device)\n",
    "        self.ff_net = nn.Linear(emb_size, emb_size, device=device)\n",
    "        self.vocab_size = vocab_size\n",
    "        self.num_heads = num_heads\n",
    "        self.head_size = head_size\n",
    "        self.mha = MultiHeadedAttention(self.num_heads)\n",
    "        self.layer_norm = nn.LayerNorm(emb_size, device=device, dtype=torch.float32)\n",
    "        self.final_ll = nn.Linear(emb_size, vocab_size, device=device)\n",
    "\n",
    "    def forward(self, x, targets=None):\n",
    "        token_emb = self.token_emb_table(x) # B, T, C\n",
    "        # print(x.shape, token_emb.shape)\n",
    "        pos_emb = self.pos_emb_table(torch.arange(x.shape[-1], device=device)) # T, C\n",
    "        x = token_emb + pos_emb # B, T, C\n",
    "        for _ in range(num_blocks):\n",
    "            x_res = x\n",
    "            x = self.layer_norm(x)\n",
    "            x = self.mha(x) # B, T, C\n",
    "#             x = x_res + x\n",
    "#             x_res = x\n",
    "            x = x_res + self.ff_net(x) # B, T, vocab_size\n",
    "        logits = self.final_ll(x)\n",
    "        # print(logits.shape)\n",
    "        B, T, C = logits.shape\n",
    "        if targets is not None:\n",
    "            loss_fn = torch.nn.CrossEntropyLoss()\n",
    "            # targets = self.token_emb_table(targets)\n",
    "            loss = loss_fn(logits.view(B*T, C), targets.view(B*T))\n",
    "        else:\n",
    "            loss = None\n",
    "        \n",
    "        return logits, loss\n",
    "    \n",
    "    def generate(self, idx, max_tokens):\n",
    "        for _ in range(max_tokens):\n",
    "            idx_slice = idx[:, -block_size:]\n",
    "            logits, loss = self.forward(idx_slice)\n",
    "            logits = logits[:, -1, :]\n",
    "            probabs = nn.functional.softmax(logits, dim=-1)\n",
    "            idx_next = torch.multinomial(probabs, num_samples=1)\n",
    "            idx = torch.cat((idx, idx_next), dim=1)\n",
    "            \n",
    "        return decode(idx[0].tolist())\n",
    "\n",
    "\n",
    "    def train(self, num_steps, batch_size):\n",
    "        optimizer = torch.optim.AdamW(self.parameters(), lr=3e-4, betas=(0.9, 0.999))\n",
    "        for step in range(num_steps):\n",
    "            optimizer.zero_grad()\n",
    "            data, targets = generate_batch(batch_size, block_size)\n",
    "            logits, loss = self.forward(data, targets)\n",
    "            loss.backward()\n",
    "            optimizer.step()\n",
    "            if (step+1) % 10 == 0:\n",
    "                print(f\"Step {step}, loss {loss.item()}\")\n"
   ]
  },
  {
   "cell_type": "code",
   "execution_count": 17,
   "metadata": {},
   "outputs": [],
   "source": [
    "gpt = GPT(vocab_size).to(device)"
   ]
  },
  {
   "cell_type": "code",
   "execution_count": 38,
   "metadata": {},
   "outputs": [
    {
     "data": {
      "text/plain": [
       "150849"
      ]
     },
     "execution_count": 38,
     "metadata": {},
     "output_type": "execute_result"
    }
   ],
   "source": [
    "np.sum([p.numel() for p in gpt.parameters()])"
   ]
  },
  {
   "cell_type": "code",
   "execution_count": 25,
   "metadata": {},
   "outputs": [],
   "source": [
    "logits, loss = gpt(data, targets)"
   ]
  },
  {
   "cell_type": "code",
   "execution_count": null,
   "metadata": {},
   "outputs": [],
   "source": [
    "print(gpt.generate(torch.zeros((1,1), dtype=torch.long, device=device), max_tokens=60))\n"
   ]
  },
  {
   "cell_type": "code",
   "execution_count": null,
   "metadata": {},
   "outputs": [],
   "source": [
    "gpt.train(1000, 100)"
   ]
  },
  {
   "cell_type": "code",
   "execution_count": null,
   "metadata": {},
   "outputs": [],
   "source": [
    "logits, loss = gpt(data, targets)"
   ]
  },
  {
   "cell_type": "code",
   "execution_count": null,
   "metadata": {},
   "outputs": [],
   "source": [
    "import matplotlib.pyplot as plt\n",
    "plt.colorbar(plt.imshow(logits[:, -1, :].detach().cpu()))"
   ]
  }
 ],
 "metadata": {
  "kernelspec": {
   "display_name": "Python [conda env:esmfold]",
   "language": "python",
   "name": "conda-env-esmfold-py"
  },
  "language_info": {
   "codemirror_mode": {
    "name": "ipython",
    "version": 3
   },
   "file_extension": ".py",
   "mimetype": "text/x-python",
   "name": "python",
   "nbconvert_exporter": "python",
   "pygments_lexer": "ipython3",
   "version": "3.7.12"
  }
 },
 "nbformat": 4,
 "nbformat_minor": 2
}
